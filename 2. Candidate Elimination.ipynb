{
  "metadata": {
    "language_info": {
      "codemirror_mode": {
        "name": "python",
        "version": 3
      },
      "file_extension": ".py",
      "mimetype": "text/x-python",
      "name": "python",
      "nbconvert_exporter": "python",
      "pygments_lexer": "ipython3",
      "version": "3.8"
    },
    "kernelspec": {
      "name": "python",
      "display_name": "Python (Pyodide)",
      "language": "python"
    }
  },
  "nbformat_minor": 4,
  "nbformat": 4,
  "cells": [
    {
      "cell_type": "code",
      "source": "import numpy as np\nimport pandas as pd\n\ndata = pd.DataFrame(data=pd.read_csv('datatset1.csv'))\nprint(data,\"\\n\")\n\nconcepts = np.array(data.iloc[:,0:-1])\nprint(\"The attributes are: \",concepts)\n\ntarget = np.array(data.iloc[:,-1])\nprint(\"\\n The target is: \",target)\n\ndef learn(concepts, target):\n specific_h = concepts[0].copy()\n print(\"\\n Initialization of specific_h and general_h\")\n print(specific_h)\n general_h = [[\"?\" for i in range(len(specific_h))] for i in range(len(specific_h))]\n print(general_h)\n for i, h in enumerate(concepts):\n     if target[i] == \"yes\":\n         for x in range(len(specific_h)):\n             if h[x]!= specific_h[x]:\n                 specific_h[x] ='?'\n                 general_h[x][x] ='?'\n             print(specific_h)\n     print(specific_h)\n     if target[i] == \"no\":\n         for x in range(len(specific_h)):\n             if h[x]!= specific_h[x]:\n                 general_h[x][x] = specific_h[x]\n             else:\n                 general_h[x][x] = '?'\n     print(\"\\n Steps of Candidate Elimination Algorithm\",i+1)\n     print(specific_h)\n     print(general_h)\n indices = [i for i, val in enumerate(general_h) if val ==\n['?', '?', '?', '?', '?', '?']]\n for i in indices:\n     general_h.remove(['?', '?', '?', '?', '?', '?'])\n return specific_h, general_h\ns_final, g_final = learn(concepts, target)\n\nprint(\"\\nFinal Specific_h:\", s_final, sep=\"\\n\")\nprint(\"\\nFinal General_h:\", g_final, sep=\"\\n\")",
      "metadata": {
        "trusted": true
      },
      "execution_count": 10,
      "outputs": [
        {
          "name": "stdout",
          "text": "        sky air temp humidity    wind water forecast enjoy sport\n0     sunny     warm   normal  strong  warm     same          no\n1     sunny     warm     high  strong  warm     same          no\n2     rainy     cold     high  strong  warm   change          no\n3     sunny     warm     high  strong  cool   change         yes\n4  overcast      hot   normal    weak  cool   change          no\n5     sunny     mild   normal    weak  cool     same          no\n6     rainy     mild     high    weak  cool     same          no\n7  overcast     mild     high  strong  warm     same         yes \n\nThe attributes are:  [['sunny' 'warm' 'normal' 'strong' 'warm' 'same']\n ['sunny' 'warm' 'high' 'strong' 'warm' 'same']\n ['rainy' 'cold' 'high' 'strong' 'warm' 'change']\n ['sunny' 'warm' 'high' 'strong' 'cool' 'change']\n ['overcast' 'hot' 'normal' 'weak' 'cool' 'change']\n ['sunny' 'mild' 'normal' 'weak' 'cool' 'same']\n ['rainy' 'mild' 'high' 'weak' 'cool' 'same']\n ['overcast' 'mild' 'high' 'strong' 'warm' 'same']]\n\n The target is:  ['no' 'no' 'no' 'yes' 'no' 'no' 'no' 'yes']\n\n Initialization of specific_h and general_h\n['sunny' 'warm' 'normal' 'strong' 'warm' 'same']\n[['?', '?', '?', '?', '?', '?'], ['?', '?', '?', '?', '?', '?'], ['?', '?', '?', '?', '?', '?'], ['?', '?', '?', '?', '?', '?'], ['?', '?', '?', '?', '?', '?'], ['?', '?', '?', '?', '?', '?']]\n['sunny' 'warm' 'normal' 'strong' 'warm' 'same']\n\n Steps of Candidate Elimination Algorithm 1\n['sunny' 'warm' 'normal' 'strong' 'warm' 'same']\n[['?', '?', '?', '?', '?', '?'], ['?', '?', '?', '?', '?', '?'], ['?', '?', '?', '?', '?', '?'], ['?', '?', '?', '?', '?', '?'], ['?', '?', '?', '?', '?', '?'], ['?', '?', '?', '?', '?', '?']]\n['sunny' 'warm' 'normal' 'strong' 'warm' 'same']\n\n Steps of Candidate Elimination Algorithm 2\n['sunny' 'warm' 'normal' 'strong' 'warm' 'same']\n[['?', '?', '?', '?', '?', '?'], ['?', '?', '?', '?', '?', '?'], ['?', '?', 'normal', '?', '?', '?'], ['?', '?', '?', '?', '?', '?'], ['?', '?', '?', '?', '?', '?'], ['?', '?', '?', '?', '?', '?']]\n['sunny' 'warm' 'normal' 'strong' 'warm' 'same']\n\n Steps of Candidate Elimination Algorithm 3\n['sunny' 'warm' 'normal' 'strong' 'warm' 'same']\n[['sunny', '?', '?', '?', '?', '?'], ['?', 'warm', '?', '?', '?', '?'], ['?', '?', 'normal', '?', '?', '?'], ['?', '?', '?', '?', '?', '?'], ['?', '?', '?', '?', '?', '?'], ['?', '?', '?', '?', '?', 'same']]\n['sunny' 'warm' 'normal' 'strong' 'warm' 'same']\n['sunny' 'warm' 'normal' 'strong' 'warm' 'same']\n['sunny' 'warm' '?' 'strong' 'warm' 'same']\n['sunny' 'warm' '?' 'strong' 'warm' 'same']\n['sunny' 'warm' '?' 'strong' '?' 'same']\n['sunny' 'warm' '?' 'strong' '?' '?']\n['sunny' 'warm' '?' 'strong' '?' '?']\n\n Steps of Candidate Elimination Algorithm 4\n['sunny' 'warm' '?' 'strong' '?' '?']\n[['sunny', '?', '?', '?', '?', '?'], ['?', 'warm', '?', '?', '?', '?'], ['?', '?', '?', '?', '?', '?'], ['?', '?', '?', '?', '?', '?'], ['?', '?', '?', '?', '?', '?'], ['?', '?', '?', '?', '?', '?']]\n['sunny' 'warm' '?' 'strong' '?' '?']\n\n Steps of Candidate Elimination Algorithm 5\n['sunny' 'warm' '?' 'strong' '?' '?']\n[['sunny', '?', '?', '?', '?', '?'], ['?', 'warm', '?', '?', '?', '?'], ['?', '?', '?', '?', '?', '?'], ['?', '?', '?', 'strong', '?', '?'], ['?', '?', '?', '?', '?', '?'], ['?', '?', '?', '?', '?', '?']]\n['sunny' 'warm' '?' 'strong' '?' '?']\n\n Steps of Candidate Elimination Algorithm 6\n['sunny' 'warm' '?' 'strong' '?' '?']\n[['?', '?', '?', '?', '?', '?'], ['?', 'warm', '?', '?', '?', '?'], ['?', '?', '?', '?', '?', '?'], ['?', '?', '?', 'strong', '?', '?'], ['?', '?', '?', '?', '?', '?'], ['?', '?', '?', '?', '?', '?']]\n['sunny' 'warm' '?' 'strong' '?' '?']\n\n Steps of Candidate Elimination Algorithm 7\n['sunny' 'warm' '?' 'strong' '?' '?']\n[['sunny', '?', '?', '?', '?', '?'], ['?', 'warm', '?', '?', '?', '?'], ['?', '?', '?', '?', '?', '?'], ['?', '?', '?', 'strong', '?', '?'], ['?', '?', '?', '?', '?', '?'], ['?', '?', '?', '?', '?', '?']]\n['?' 'warm' '?' 'strong' '?' '?']\n['?' '?' '?' 'strong' '?' '?']\n['?' '?' '?' 'strong' '?' '?']\n['?' '?' '?' 'strong' '?' '?']\n['?' '?' '?' 'strong' '?' '?']\n['?' '?' '?' 'strong' '?' '?']\n['?' '?' '?' 'strong' '?' '?']\n\n Steps of Candidate Elimination Algorithm 8\n['?' '?' '?' 'strong' '?' '?']\n[['?', '?', '?', '?', '?', '?'], ['?', '?', '?', '?', '?', '?'], ['?', '?', '?', '?', '?', '?'], ['?', '?', '?', 'strong', '?', '?'], ['?', '?', '?', '?', '?', '?'], ['?', '?', '?', '?', '?', '?']]\n\nFinal Specific_h:\n['?' '?' '?' 'strong' '?' '?']\n\nFinal General_h:\n[['?', '?', '?', 'strong', '?', '?']]\n",
          "output_type": "stream"
        }
      ]
    },
    {
      "cell_type": "code",
      "source": "import numpy as np\nimport pandas as pd\n\ndata = pd.DataFrame(data=pd.read_csv('DataSet2.csv'))\nprint(data,\"\\n\")\n\nconcepts = np.array(data.iloc[:,0:-1])\nprint(\"The attributes are: \",concepts)\n\ntarget = np.array(data.iloc[:,-1])\nprint(\"\\n The target is: \",target)\n\ndef learn(concepts, target):\n specific_h = concepts[0].copy()\n print(\"\\n Initialization of specific_h and general_h\")\n print(specific_h)\n general_h = [[\"?\" for i in range(len(specific_h))] for i in range(len(specific_h))]\n print(general_h)\n for i, h in enumerate(concepts):\n     if target[i] == \"yes\":\n         for x in range(len(specific_h)):\n             if h[x]!= specific_h[x]:\n                 specific_h[x] ='?'\n                 general_h[x][x] ='?'\n             print(specific_h)\n     print(specific_h)\n     if target[i] == \"no\":\n         for x in range(len(specific_h)):\n             if h[x]!= specific_h[x]:\n                 general_h[x][x] = specific_h[x]\n             else:\n                 general_h[x][x] = '?'\n     print(\"\\n Steps of Candidate Elimination Algorithm\",i+1)\n     print(specific_h)\n     print(general_h)\n indices = [i for i, val in enumerate(general_h) if val ==\n['?', '?', '?', '?', '?', '?']]\n for i in indices:\n     general_h.remove(['?', '?', '?', '?', '?', '?'])\n return specific_h, general_h\ns_final, g_final = learn(concepts, target)\n\nprint(\"\\nFinal Specific_h:\", s_final, sep=\"\\n\")\nprint(\"\\nFinal General_h:\", g_final, sep=\"\\n\")",
      "metadata": {
        "trusted": true
      },
      "execution_count": 16,
      "outputs": [
        {
          "name": "stdout",
          "text": "  origin manufacture  color  decade     type class\n0  japan       honda   blue    1980  economy     +\n1  japan      toyota  green    1970    sport     -\n2  japan      toyota   blue    1990  economy     +\n3    usa    chrysler    red    1980  economy     -\n4  japan       honda  white    1980  economy     +\n5  japan      toyota  green    1980  economy     + \n\nThe attributes are:  [['japan' 'honda' 'blue' 1980 'economy']\n ['japan' 'toyota' 'green' 1970 'sport']\n ['japan' 'toyota' 'blue' 1990 'economy']\n ['usa' 'chrysler' 'red' 1980 'economy']\n ['japan' 'honda' 'white' 1980 'economy']\n ['japan' 'toyota' 'green' 1980 'economy']]\n\n The target is:  ['+' '-' '+' '-' '+' '+']\n\n Initialization of specific_h and general_h\n['japan' 'honda' 'blue' 1980 'economy']\n[['?', '?', '?', '?', '?'], ['?', '?', '?', '?', '?'], ['?', '?', '?', '?', '?'], ['?', '?', '?', '?', '?'], ['?', '?', '?', '?', '?']]\n['japan' 'honda' 'blue' 1980 'economy']\n\n Steps of Candidate Elimination Algorithm 1\n['japan' 'honda' 'blue' 1980 'economy']\n[['?', '?', '?', '?', '?'], ['?', '?', '?', '?', '?'], ['?', '?', '?', '?', '?'], ['?', '?', '?', '?', '?'], ['?', '?', '?', '?', '?']]\n['japan' 'honda' 'blue' 1980 'economy']\n\n Steps of Candidate Elimination Algorithm 2\n['japan' 'honda' 'blue' 1980 'economy']\n[['?', '?', '?', '?', '?'], ['?', '?', '?', '?', '?'], ['?', '?', '?', '?', '?'], ['?', '?', '?', '?', '?'], ['?', '?', '?', '?', '?']]\n['japan' 'honda' 'blue' 1980 'economy']\n\n Steps of Candidate Elimination Algorithm 3\n['japan' 'honda' 'blue' 1980 'economy']\n[['?', '?', '?', '?', '?'], ['?', '?', '?', '?', '?'], ['?', '?', '?', '?', '?'], ['?', '?', '?', '?', '?'], ['?', '?', '?', '?', '?']]\n['japan' 'honda' 'blue' 1980 'economy']\n\n Steps of Candidate Elimination Algorithm 4\n['japan' 'honda' 'blue' 1980 'economy']\n[['?', '?', '?', '?', '?'], ['?', '?', '?', '?', '?'], ['?', '?', '?', '?', '?'], ['?', '?', '?', '?', '?'], ['?', '?', '?', '?', '?']]\n['japan' 'honda' 'blue' 1980 'economy']\n\n Steps of Candidate Elimination Algorithm 5\n['japan' 'honda' 'blue' 1980 'economy']\n[['?', '?', '?', '?', '?'], ['?', '?', '?', '?', '?'], ['?', '?', '?', '?', '?'], ['?', '?', '?', '?', '?'], ['?', '?', '?', '?', '?']]\n['japan' 'honda' 'blue' 1980 'economy']\n\n Steps of Candidate Elimination Algorithm 6\n['japan' 'honda' 'blue' 1980 'economy']\n[['?', '?', '?', '?', '?'], ['?', '?', '?', '?', '?'], ['?', '?', '?', '?', '?'], ['?', '?', '?', '?', '?'], ['?', '?', '?', '?', '?']]\n\nFinal Specific_h:\n['japan' 'honda' 'blue' 1980 'economy']\n\nFinal General_h:\n[['?', '?', '?', '?', '?'], ['?', '?', '?', '?', '?'], ['?', '?', '?', '?', '?'], ['?', '?', '?', '?', '?'], ['?', '?', '?', '?', '?']]\n",
          "output_type": "stream"
        }
      ]
    },
    {
      "cell_type": "code",
      "source": "",
      "metadata": {},
      "execution_count": null,
      "outputs": []
    }
  ]
}