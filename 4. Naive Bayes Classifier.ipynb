{
  "metadata": {
    "language_info": {
      "codemirror_mode": {
        "name": "python",
        "version": 3
      },
      "file_extension": ".py",
      "mimetype": "text/x-python",
      "name": "python",
      "nbconvert_exporter": "python",
      "pygments_lexer": "ipython3",
      "version": "3.8"
    },
    "kernelspec": {
      "name": "python",
      "display_name": "Python (Pyodide)",
      "language": "python"
    }
  },
  "nbformat_minor": 4,
  "nbformat": 4,
  "cells": [
    {
      "cell_type": "code",
      "source": "import pandas as pd\ndata = pd.read_csv('heart.csv')\n\ny = list(data['heartdisease'].values)\nX = data.iloc[:,0:].values\n\nprint(f'Target Values: {y}')\nprint(f'Features: \\n{X}')\n\ny_train = y[:300]\ny_val = y[14:]\n\nX_train = X[:300]\nX_val = X[14:]\n\nprint(f\"Number of instances in training set: {len(X_train)}\")\nprint(f\"Number of instances in testing set: {len(X_val)}\")\n\nclass NaiveBayesClassifier:    \n    def __init__(self, X, y):\n        self.X, self.y = X, y \n        self.N = len(self.X)\n        self.dim = len(self.X[0]) \n        self.attrs = [[] for _ in range(self.dim)] \n        self.output_dom = {} \n        self.data = []\n        \n        for i in range(len(self.X)):\n            for j in range(self.dim):\n                if not self.X[i][j] in self.attrs[j]:\n                    self.attrs[j].append(self.X[i][j])\n                    \n            if not self.y[i] in self.output_dom.keys():\n                self.output_dom[self.y[i]] = 1\n            else:\n                self.output_dom[self.y[i]] += 1\n            self.data.append([self.X[i], self.y[i]])\n\n    def classify(self, entry):\n        solve = None \n        max_arg = -1\n\n        for y in self.output_dom.keys():\n            prob = self.output_dom[y]/self.N \n\n            for i in range(self.dim):\n                cases = [x for x in self.data if x[0][i] == entry[i] and x[1] == y] \n                n = len(cases)\n                prob *= n/self.N \n                \n            if prob > max_arg:\n                max_arg = prob\n                solve = y\n\n        return solve\nnbc = NaiveBayesClassifier(X_train, y_train)\ntotal_cases = len(y_val)\n\ngood = 0\nbad = 0\npredictions = []\n\nfor i in range(total_cases):\n    predict = nbc.classify(X_val[i])\n    predictions.append(predict)\n\n    if y_val[i] == predict:\n        good += 1\n    else:\n        bad += 1\n        \nprint('Predicted values:', predictions)\nprint('Actual values:', y_val)\nprint()\nprint('Total number of testing instances in the dataset:', total_cases)\nprint('Number of correct predictions:', good)\nprint('Number of wrong predictions:', bad)\nprint()\nprint('Accuracy of Bayes Classifier:', good/total_cases)",
      "metadata": {
        "trusted": true
      },
      "execution_count": 28,
      "outputs": [
        {
          "name": "stdout",
          "text": "Target Values: [0, 2, 1, 0, 0, 0, 3, 0, 2, 1, 0, 0, 2, 0, 0, 0, 1, 0, 0, 0, 0, 0, 1, 3, 4, 0, 0, 0, 0, 3, 0, 2, 1, 0, 0, 0, 3, 1, 3, 0, 4, 0, 0, 0, 1, 4, 0, 4, 0, 0, 0, 0, 2, 0, 1, 1, 1, 1, 0, 0, 2, 0, 1, 0, 2, 2, 1, 0, 2, 1, 0, 3, 1, 1, 1, 0, 1, 0, 0, 3, 0, 0, 0, 3, 0, 0, 0, 0, 0, 0, 0, 3, 0, 0, 0, 1, 2, 3, 0, 0, 0, 0, 0, 0, 3, 0, 2, 1, 2, 3, 1, 1, 0, 2, 2, 0, 0, 0, 3, 2, 3, 4, 0, 3, 1, 0, 3, 3, 0, 0, 0, 0, 0, 0, 0, 0, 4, 3, 1, 0, 0, 1, 0, 1, 0, 1, 4, 0, 0, 0, 0, 0, 0, 4, 3, 1, 1, 1, 2, 0, 0, 4, 0, 0, 0, 0, 0, 0, 1, 0, 3, 0, 1, 0, 4, 1, 0, 1, 0, 0, 3, 2, 0, 0, 1, 0, 0, 2, 1, 2, 0, 3, 1, 2, 0, 3, 0, 0, 0, 1, 0, 0, 0, 0, 0, 3, 3, 3, 0, 1, 0, 4, 0, 3, 1, 0, 0, 0, 0, 0, 0, 0, 0, 3, 1, 0, 0, 0, 3, 2, 0, 2, 1, 0, 0, 3, 2, 1, 0, 0, 0, 0, 0, 2, 0, 2, 2, 1, 3, 0, 0, 1, 0, 0, 0, 0, 0, 0, 0, 1, 0, 3, 0, 0, 4, 2, 2, 2, 1, 0, 1, 0, 2, 0, 1, 0, 0, 0, 1, 0, 2, 0, 3, 0, 2, 4, 2, 0, 0, 0, 1, 0, 2, 2, 1, 0, 3, 1, 1, 2, 3, 1, 0]\nFeatures: \n[[63 1 1 ... '0' '6' 0]\n [67 1 4 ... '3' '3' 2]\n [67 1 4 ... '2' '7' 1]\n ...\n [57 1 4 ... '1' '7' 3]\n [57 0 2 ... '1' '3' 1]\n [38 1 3 ... '?' '3' 0]]\nNumber of instances in training set: 300\nNumber of instances in testing set: 289\nPredicted values: [0, 0, 1, 0, 0, 0, 0, 0, 1, 3, 4, 0, 0, 0, 0, 3, 0, 2, 1, 0, 0, 0, 3, 1, 3, 0, 4, 0, 0, 0, 1, 4, 0, 4, 0, 0, 0, 0, 2, 0, 1, 1, 1, 1, 0, 0, 2, 0, 1, 0, 2, 2, 1, 0, 2, 1, 0, 3, 1, 1, 1, 0, 1, 0, 0, 3, 0, 0, 0, 3, 0, 0, 0, 0, 0, 0, 0, 3, 0, 0, 0, 1, 2, 3, 0, 0, 0, 0, 0, 0, 3, 0, 2, 1, 2, 3, 1, 1, 0, 2, 2, 0, 0, 0, 3, 2, 3, 4, 0, 3, 1, 0, 3, 3, 0, 0, 0, 0, 0, 0, 0, 0, 4, 3, 1, 0, 0, 1, 0, 1, 0, 1, 4, 0, 0, 0, 0, 0, 0, 4, 3, 1, 1, 1, 2, 0, 0, 4, 0, 0, 0, 0, 0, 0, 1, 0, 3, 0, 1, 0, 4, 1, 0, 1, 0, 0, 3, 2, 0, 0, 1, 0, 0, 2, 1, 2, 0, 3, 1, 2, 0, 3, 0, 0, 0, 1, 0, 0, 0, 0, 0, 3, 3, 3, 0, 1, 0, 4, 0, 3, 1, 0, 0, 0, 0, 0, 0, 0, 0, 3, 1, 0, 0, 0, 3, 2, 0, 2, 1, 0, 0, 3, 2, 1, 0, 0, 0, 0, 0, 2, 0, 2, 2, 1, 3, 0, 0, 1, 0, 0, 0, 0, 0, 0, 0, 1, 0, 3, 0, 0, 4, 2, 2, 2, 1, 0, 1, 0, 2, 0, 1, 0, 0, 0, 1, 0, 2, 0, 3, 0, 2, 4, 2, 0, 0, 0, 1, 0, 2, 2, 1, 0, 3, 1, 1, 2, 0, 0, 0]\nActual values: [0, 0, 1, 0, 0, 0, 0, 0, 1, 3, 4, 0, 0, 0, 0, 3, 0, 2, 1, 0, 0, 0, 3, 1, 3, 0, 4, 0, 0, 0, 1, 4, 0, 4, 0, 0, 0, 0, 2, 0, 1, 1, 1, 1, 0, 0, 2, 0, 1, 0, 2, 2, 1, 0, 2, 1, 0, 3, 1, 1, 1, 0, 1, 0, 0, 3, 0, 0, 0, 3, 0, 0, 0, 0, 0, 0, 0, 3, 0, 0, 0, 1, 2, 3, 0, 0, 0, 0, 0, 0, 3, 0, 2, 1, 2, 3, 1, 1, 0, 2, 2, 0, 0, 0, 3, 2, 3, 4, 0, 3, 1, 0, 3, 3, 0, 0, 0, 0, 0, 0, 0, 0, 4, 3, 1, 0, 0, 1, 0, 1, 0, 1, 4, 0, 0, 0, 0, 0, 0, 4, 3, 1, 1, 1, 2, 0, 0, 4, 0, 0, 0, 0, 0, 0, 1, 0, 3, 0, 1, 0, 4, 1, 0, 1, 0, 0, 3, 2, 0, 0, 1, 0, 0, 2, 1, 2, 0, 3, 1, 2, 0, 3, 0, 0, 0, 1, 0, 0, 0, 0, 0, 3, 3, 3, 0, 1, 0, 4, 0, 3, 1, 0, 0, 0, 0, 0, 0, 0, 0, 3, 1, 0, 0, 0, 3, 2, 0, 2, 1, 0, 0, 3, 2, 1, 0, 0, 0, 0, 0, 2, 0, 2, 2, 1, 3, 0, 0, 1, 0, 0, 0, 0, 0, 0, 0, 1, 0, 3, 0, 0, 4, 2, 2, 2, 1, 0, 1, 0, 2, 0, 1, 0, 0, 0, 1, 0, 2, 0, 3, 0, 2, 4, 2, 0, 0, 0, 1, 0, 2, 2, 1, 0, 3, 1, 1, 2, 3, 1, 0]\n\nTotal number of testing instances in the dataset: 289\nNumber of correct predictions: 287\nNumber of wrong predictions: 2\n\nAccuracy of Bayes Classifier: 0.9930795847750865\n",
          "output_type": "stream"
        }
      ]
    },
    {
      "cell_type": "code",
      "source": "",
      "metadata": {},
      "execution_count": null,
      "outputs": []
    }
  ]
}