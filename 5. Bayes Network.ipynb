{
  "metadata": {
    "language_info": {
      "codemirror_mode": {
        "name": "python",
        "version": 3
      },
      "file_extension": ".py",
      "mimetype": "text/x-python",
      "name": "python",
      "nbconvert_exporter": "python",
      "pygments_lexer": "ipython3",
      "version": "3.8"
    },
    "kernelspec": {
      "name": "python",
      "display_name": "Python (Pyodide)",
      "language": "python"
    }
  },
  "nbformat_minor": 4,
  "nbformat": 4,
  "cells": [
    {
      "cell_type": "code",
      "source": "import pandas as pd\nimport numpy as np\n\n# Load the dataset\ndata = pd.read_csv('heart.csv')  # Replace 'heart_disease.csv' with the path to your actual dataset\n\n# Define the variables and their possible values\nvariables = {\n    'age': [28, 32, 45, 58],\n    'exang': [0, 1],\n    'cp': [0, 1, 2],\n    'restecg': [0, 1],\n    'chol': [126, 220, 260, 290]\n    # Add more variables and their possible values as needed\n}\n\n# Initialize the CPTs with zeros\nnum_values = [len(values) for values in variables.values()]\ncpts_shape = tuple(num_values)\ncpts = np.zeros(cpts_shape)\n\n# Compute the observed frequencies for each combination of variables\nfor combination in data[variables.keys()].values:\n    try:\n        combination_indices = tuple(variables[variable].index(value) for variable, value in zip(variables.keys(), combination))\n        cpts[combination_indices] += 1\n    except ValueError:\n        pass\n\n# Normalize the CPTs to obtain probabilities\ncpts /= np.sum(cpts)\n\n# Make predictions\nage = 45\nexang = 0\ncp = 1\nrestecg = 0\nchol = 220\n\n# Compute the joint probability of heart disease given the evidence\nevidence_indices = [\n    variables['age'].index(age),\n    variables['exang'].index(exang),\n    variables['cp'].index(cp),\n    variables['restecg'].index(restecg),\n    variables['chol'].index(chol)\n]\njoint_probability = cpts[tuple(evidence_indices)]\n\n# Compute the marginal probability of heart disease given the evidence\nmarginal_probability = joint_probability / np.sum(joint_probability)\n\nprint(\"Probability of heart disease:\", marginal_probability)\n",
      "metadata": {
        "trusted": true
      },
      "execution_count": 9,
      "outputs": [
        {
          "name": "stdout",
          "text": "Probability of heart disease: nan\n",
          "output_type": "stream"
        }
      ]
    },
    {
      "cell_type": "code",
      "source": "",
      "metadata": {},
      "execution_count": null,
      "outputs": []
    }
  ]
}