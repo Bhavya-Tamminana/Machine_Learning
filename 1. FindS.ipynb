{
  "metadata": {
    "language_info": {
      "codemirror_mode": {
        "name": "python",
        "version": 3
      },
      "file_extension": ".py",
      "mimetype": "text/x-python",
      "name": "python",
      "nbconvert_exporter": "python",
      "pygments_lexer": "ipython3",
      "version": "3.8"
    },
    "kernelspec": {
      "name": "python",
      "display_name": "Python (Pyodide)",
      "language": "python"
    }
  },
  "nbformat_minor": 4,
  "nbformat": 4,
  "cells": [
    {
      "cell_type": "code",
      "source": "import numpy as np\n\ndef load_dataset(filename):\n    with open(filename, 'r') as file:\n        lines = file.readlines()\n    dataset = [line.strip().split(',') for line in lines]\n    attributes = np.array(dataset[0][:-1])  # Exclude the last column (target variable)\n    dataset = np.array(dataset[:6])\n    target = dataset[:, -1]\n    data = dataset[:, :-1]\n    return data, attributes, target\n\ndef find_s(data, target):\n    n = data.shape[1]  # Number of attributes\n    specific_hypothesis = ['?' for _ in range(n)]  # Initialize specific hypothesis with '?'\n\n    for instance, goal in zip(data, target):\n        if goal == 'Yes':  # Positive instance\n            for i in range(n):\n                if specific_hypothesis[i] == '?':\n                    specific_hypothesis[i] = instance[i]\n                elif specific_hypothesis[i] != instance[i]:\n                    specific_hypothesis[i] = '?'\n\n    return specific_hypothesis\n\n# Load dataset\ndata, attributes, target = load_dataset('findS.csv')\n\n# Apply Find-S algorithm\nspecific_hypothesis = find_s(data, target)\n\n# Print the most specific hypothesis\nprint(\"Final Hypothesis:\", specific_hypothesis)\n",
      "metadata": {
        "trusted": true
      },
      "execution_count": 23,
      "outputs": [
        {
          "name": "stdout",
          "text": "Final Hypothesis: ['?', 'Sunny', 'Cold', 'Yes', 'High', 'Strong']\n",
          "output_type": "stream"
        }
      ]
    },
    {
      "cell_type": "code",
      "source": "",
      "metadata": {},
      "execution_count": null,
      "outputs": []
    }
  ]
}